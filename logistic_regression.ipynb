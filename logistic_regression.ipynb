{
 "cells": [
  {
   "cell_type": "code",
   "execution_count": 2,
   "id": "76767bb4",
   "metadata": {},
   "outputs": [],
   "source": [
    "#Importing important libraries\n",
    "\n",
    "import pandas as pd\n",
    "import numpy as np\n",
    "import seaborn as sns\n",
    "import matplotlib.pyplot as plt\n",
    "import warnings\n",
    "warnings.filterwarnings(\"ignore\")\n",
    "import statsmodels.api as sm\n",
    "from sklearn.model_selection import train_test_split\n",
    "from sklearn.preprocessing import StandardScaler\n",
    "from sklearn.metrics import confusion_matrix\n",
    "from sklearn.metrics import classification_report"
   ]
  },
  {
   "cell_type": "markdown",
   "id": "cba5d7a2",
   "metadata": {},
   "source": [
    "# Problem Statement\n",
    "\n",
    "## Logistic Regression analysis and prediction of credit card approvals\n",
    "\n",
    "\n",
    "Companies have to go through a series of processes to approve a credit card to a person. This process is tedious and mundane. Every time an application is submitted bank has to analyze certain factors that play a vital role in the approval of the credit card, such as the income of the applicant, credit score, employment status, etc. This can be automated using Logistic regression analysis which can be used to understand the factors which have the most effect on the decision-making process of credit card approval. In order to achieve this, a logistic regression model can be trained to predict the probability of credit card approval based on the features from the data set. afterward, the trained logistic regression model can be analyzed to get insights into different features that have the highest impact on the approval rate."
   ]
  },
  {
   "cell_type": "markdown",
   "id": "f069237f",
   "metadata": {},
   "source": [
    "# Solution\n",
    "\n",
    "\n",
    "## Exploratory Data Analysis\n",
    "\n",
    "We start off by understanding the type of data in the dataframe. We can see from the below summary that there are 15 variables associated with credit card approval or denial. The outcome values of the last column __approved__ are the following symbols, \"+\" means approved and \"-\" means denied. These symbols are not meaningful, so we will be transforming that to 1's and 0's for the regression analysis.\n"
   ]
  },
  {
   "cell_type": "code",
   "execution_count": 3,
   "id": "8448f2da",
   "metadata": {},
   "outputs": [
    {
     "data": {
      "text/html": [
       "<div>\n",
       "<style scoped>\n",
       "    .dataframe tbody tr th:only-of-type {\n",
       "        vertical-align: middle;\n",
       "    }\n",
       "\n",
       "    .dataframe tbody tr th {\n",
       "        vertical-align: top;\n",
       "    }\n",
       "\n",
       "    .dataframe thead th {\n",
       "        text-align: right;\n",
       "    }\n",
       "</style>\n",
       "<table border=\"1\" class=\"dataframe\">\n",
       "  <thead>\n",
       "    <tr style=\"text-align: right;\">\n",
       "      <th></th>\n",
       "      <th>Male</th>\n",
       "      <th>Age</th>\n",
       "      <th>Debt</th>\n",
       "      <th>Married</th>\n",
       "      <th>Bank_Customer</th>\n",
       "      <th>Education_Level</th>\n",
       "      <th>Ethnicity</th>\n",
       "      <th>Years_Employed</th>\n",
       "      <th>Prior_Default</th>\n",
       "      <th>Employed</th>\n",
       "      <th>Credit_Score</th>\n",
       "      <th>Driverse_License</th>\n",
       "      <th>Citizen</th>\n",
       "      <th>Zip</th>\n",
       "      <th>Income</th>\n",
       "      <th>Approved</th>\n",
       "    </tr>\n",
       "  </thead>\n",
       "  <tbody>\n",
       "    <tr>\n",
       "      <th>0</th>\n",
       "      <td>b</td>\n",
       "      <td>30.83</td>\n",
       "      <td>0.000</td>\n",
       "      <td>u</td>\n",
       "      <td>g</td>\n",
       "      <td>w</td>\n",
       "      <td>v</td>\n",
       "      <td>1.25</td>\n",
       "      <td>t</td>\n",
       "      <td>t</td>\n",
       "      <td>1</td>\n",
       "      <td>f</td>\n",
       "      <td>g</td>\n",
       "      <td>00202</td>\n",
       "      <td>0</td>\n",
       "      <td>+</td>\n",
       "    </tr>\n",
       "    <tr>\n",
       "      <th>1</th>\n",
       "      <td>a</td>\n",
       "      <td>58.67</td>\n",
       "      <td>4.460</td>\n",
       "      <td>u</td>\n",
       "      <td>g</td>\n",
       "      <td>q</td>\n",
       "      <td>h</td>\n",
       "      <td>3.04</td>\n",
       "      <td>t</td>\n",
       "      <td>t</td>\n",
       "      <td>6</td>\n",
       "      <td>f</td>\n",
       "      <td>g</td>\n",
       "      <td>00043</td>\n",
       "      <td>560</td>\n",
       "      <td>+</td>\n",
       "    </tr>\n",
       "    <tr>\n",
       "      <th>2</th>\n",
       "      <td>a</td>\n",
       "      <td>24.50</td>\n",
       "      <td>0.500</td>\n",
       "      <td>u</td>\n",
       "      <td>g</td>\n",
       "      <td>q</td>\n",
       "      <td>h</td>\n",
       "      <td>1.50</td>\n",
       "      <td>t</td>\n",
       "      <td>f</td>\n",
       "      <td>0</td>\n",
       "      <td>f</td>\n",
       "      <td>g</td>\n",
       "      <td>00280</td>\n",
       "      <td>824</td>\n",
       "      <td>+</td>\n",
       "    </tr>\n",
       "    <tr>\n",
       "      <th>3</th>\n",
       "      <td>b</td>\n",
       "      <td>27.83</td>\n",
       "      <td>1.540</td>\n",
       "      <td>u</td>\n",
       "      <td>g</td>\n",
       "      <td>w</td>\n",
       "      <td>v</td>\n",
       "      <td>3.75</td>\n",
       "      <td>t</td>\n",
       "      <td>t</td>\n",
       "      <td>5</td>\n",
       "      <td>t</td>\n",
       "      <td>g</td>\n",
       "      <td>00100</td>\n",
       "      <td>3</td>\n",
       "      <td>+</td>\n",
       "    </tr>\n",
       "    <tr>\n",
       "      <th>4</th>\n",
       "      <td>b</td>\n",
       "      <td>20.17</td>\n",
       "      <td>5.625</td>\n",
       "      <td>u</td>\n",
       "      <td>g</td>\n",
       "      <td>w</td>\n",
       "      <td>v</td>\n",
       "      <td>1.71</td>\n",
       "      <td>t</td>\n",
       "      <td>f</td>\n",
       "      <td>0</td>\n",
       "      <td>f</td>\n",
       "      <td>s</td>\n",
       "      <td>00120</td>\n",
       "      <td>0</td>\n",
       "      <td>+</td>\n",
       "    </tr>\n",
       "    <tr>\n",
       "      <th>5</th>\n",
       "      <td>b</td>\n",
       "      <td>32.08</td>\n",
       "      <td>4.000</td>\n",
       "      <td>u</td>\n",
       "      <td>g</td>\n",
       "      <td>m</td>\n",
       "      <td>v</td>\n",
       "      <td>2.50</td>\n",
       "      <td>t</td>\n",
       "      <td>f</td>\n",
       "      <td>0</td>\n",
       "      <td>t</td>\n",
       "      <td>g</td>\n",
       "      <td>00360</td>\n",
       "      <td>0</td>\n",
       "      <td>+</td>\n",
       "    </tr>\n",
       "  </tbody>\n",
       "</table>\n",
       "</div>"
      ],
      "text/plain": [
       "  Male    Age   Debt Married Bank_Customer Education_Level Ethnicity  \\\n",
       "0    b  30.83  0.000       u             g               w         v   \n",
       "1    a  58.67  4.460       u             g               q         h   \n",
       "2    a  24.50  0.500       u             g               q         h   \n",
       "3    b  27.83  1.540       u             g               w         v   \n",
       "4    b  20.17  5.625       u             g               w         v   \n",
       "5    b  32.08  4.000       u             g               m         v   \n",
       "\n",
       "   Years_Employed Prior_Default Employed  Credit_Score Driverse_License  \\\n",
       "0            1.25             t        t             1                f   \n",
       "1            3.04             t        t             6                f   \n",
       "2            1.50             t        f             0                f   \n",
       "3            3.75             t        t             5                t   \n",
       "4            1.71             t        f             0                f   \n",
       "5            2.50             t        f             0                t   \n",
       "\n",
       "  Citizen    Zip  Income Approved  \n",
       "0       g  00202       0        +  \n",
       "1       g  00043     560        +  \n",
       "2       g  00280     824        +  \n",
       "3       g  00100       3        +  \n",
       "4       s  00120       0        +  \n",
       "5       g  00360       0        +  "
      ]
     },
     "execution_count": 3,
     "metadata": {},
     "output_type": "execute_result"
    }
   ],
   "source": [
    "# Loading the dataset\n",
    "\n",
    "credit_df = pd.read_csv(\"crx.csv\", names = [\"Male\", \"Age\", \"Debt\", \"Married\", \"Bank_Customer\", \"Education_Level\",\n",
    "                                           \"Ethnicity\", \"Years_Employed\", \"Prior_Default\", \"Employed\", \"Credit_Score\",\n",
    "                                           \"Driverse_License\", \"Citizen\", \"Zip\", \"Income\", \"Approved\"])\n",
    "credit_df.head(6)\n"
   ]
  },
  {
   "cell_type": "markdown",
   "id": "f63dae9b",
   "metadata": {},
   "source": [
    "There are five continuous variables in the dataset. We will check the relationship between these variables and credit card approval before jumping to regression analysis. Box plot is used here to understand the correlation between __Age_, _Income_, _Debt_, _CreditScore_, _Years_Employed_, and the approval rate__. The below box plots of these continuous variables show that the means of the features of the approved applications are further distributed from the mean of the denied.\n"
   ]
  },
  {
   "cell_type": "code",
   "execution_count": 7,
   "id": "1693d91c",
   "metadata": {},
   "outputs": [
    {
     "name": "stdout",
     "output_type": "stream",
     "text": [
      "Rows where column contains non-numeric values: 12\n"
     ]
    }
   ],
   "source": [
    "# Filter out non-numeric values to see how many are there.  \n",
    "non_numeric_rows = credit_df[pd.to_numeric(credit_df['Age'], errors='coerce').isna()]\n",
    "\n",
    "# Display rows where columns contains non-numeric values\n",
    "print(\"Rows where column contains non-numeric values:\", len(non_numeric_rows ))\n"
   ]
  },
  {
   "cell_type": "code",
   "execution_count": 8,
   "id": "935e26a0",
   "metadata": {},
   "outputs": [],
   "source": [
    "#Let's factorize Approved column, and convert Age to int\n",
    "credit_df[\"Approved\"] = credit_df[\"Approved\"].replace({\"+\": 1, \"-\": 0}, inplace = False)\n",
    "credit_df['Age'] = pd.to_numeric(credit_df['Age'], errors='coerce') \n",
    "credit_df.dropna(subset=['Age'], inplace=True)\n",
    "credit_df['Age'] = credit_df['Age'].round().astype(int)"
   ]
  },
  {
   "cell_type": "code",
   "execution_count": 9,
   "id": "b770e820",
   "metadata": {},
   "outputs": [
    {
     "data": {
      "text/html": [
       "<div>\n",
       "<style scoped>\n",
       "    .dataframe tbody tr th:only-of-type {\n",
       "        vertical-align: middle;\n",
       "    }\n",
       "\n",
       "    .dataframe tbody tr th {\n",
       "        vertical-align: top;\n",
       "    }\n",
       "\n",
       "    .dataframe thead th {\n",
       "        text-align: right;\n",
       "    }\n",
       "</style>\n",
       "<table border=\"1\" class=\"dataframe\">\n",
       "  <thead>\n",
       "    <tr style=\"text-align: right;\">\n",
       "      <th></th>\n",
       "      <th>Male</th>\n",
       "      <th>Age</th>\n",
       "      <th>Debt</th>\n",
       "      <th>Married</th>\n",
       "      <th>Bank_Customer</th>\n",
       "      <th>Education_Level</th>\n",
       "      <th>Ethnicity</th>\n",
       "      <th>Years_Employed</th>\n",
       "      <th>Prior_Default</th>\n",
       "      <th>Employed</th>\n",
       "      <th>Credit_Score</th>\n",
       "      <th>Driverse_License</th>\n",
       "      <th>Citizen</th>\n",
       "      <th>Zip</th>\n",
       "      <th>Income</th>\n",
       "      <th>Approved</th>\n",
       "    </tr>\n",
       "  </thead>\n",
       "  <tbody>\n",
       "    <tr>\n",
       "      <th>0</th>\n",
       "      <td>b</td>\n",
       "      <td>31</td>\n",
       "      <td>0.000</td>\n",
       "      <td>u</td>\n",
       "      <td>g</td>\n",
       "      <td>w</td>\n",
       "      <td>v</td>\n",
       "      <td>1.25</td>\n",
       "      <td>t</td>\n",
       "      <td>t</td>\n",
       "      <td>1</td>\n",
       "      <td>f</td>\n",
       "      <td>g</td>\n",
       "      <td>00202</td>\n",
       "      <td>0</td>\n",
       "      <td>1</td>\n",
       "    </tr>\n",
       "    <tr>\n",
       "      <th>1</th>\n",
       "      <td>a</td>\n",
       "      <td>59</td>\n",
       "      <td>4.460</td>\n",
       "      <td>u</td>\n",
       "      <td>g</td>\n",
       "      <td>q</td>\n",
       "      <td>h</td>\n",
       "      <td>3.04</td>\n",
       "      <td>t</td>\n",
       "      <td>t</td>\n",
       "      <td>6</td>\n",
       "      <td>f</td>\n",
       "      <td>g</td>\n",
       "      <td>00043</td>\n",
       "      <td>560</td>\n",
       "      <td>1</td>\n",
       "    </tr>\n",
       "    <tr>\n",
       "      <th>2</th>\n",
       "      <td>a</td>\n",
       "      <td>24</td>\n",
       "      <td>0.500</td>\n",
       "      <td>u</td>\n",
       "      <td>g</td>\n",
       "      <td>q</td>\n",
       "      <td>h</td>\n",
       "      <td>1.50</td>\n",
       "      <td>t</td>\n",
       "      <td>f</td>\n",
       "      <td>0</td>\n",
       "      <td>f</td>\n",
       "      <td>g</td>\n",
       "      <td>00280</td>\n",
       "      <td>824</td>\n",
       "      <td>1</td>\n",
       "    </tr>\n",
       "    <tr>\n",
       "      <th>3</th>\n",
       "      <td>b</td>\n",
       "      <td>28</td>\n",
       "      <td>1.540</td>\n",
       "      <td>u</td>\n",
       "      <td>g</td>\n",
       "      <td>w</td>\n",
       "      <td>v</td>\n",
       "      <td>3.75</td>\n",
       "      <td>t</td>\n",
       "      <td>t</td>\n",
       "      <td>5</td>\n",
       "      <td>t</td>\n",
       "      <td>g</td>\n",
       "      <td>00100</td>\n",
       "      <td>3</td>\n",
       "      <td>1</td>\n",
       "    </tr>\n",
       "    <tr>\n",
       "      <th>4</th>\n",
       "      <td>b</td>\n",
       "      <td>20</td>\n",
       "      <td>5.625</td>\n",
       "      <td>u</td>\n",
       "      <td>g</td>\n",
       "      <td>w</td>\n",
       "      <td>v</td>\n",
       "      <td>1.71</td>\n",
       "      <td>t</td>\n",
       "      <td>f</td>\n",
       "      <td>0</td>\n",
       "      <td>f</td>\n",
       "      <td>s</td>\n",
       "      <td>00120</td>\n",
       "      <td>0</td>\n",
       "      <td>1</td>\n",
       "    </tr>\n",
       "    <tr>\n",
       "      <th>5</th>\n",
       "      <td>b</td>\n",
       "      <td>32</td>\n",
       "      <td>4.000</td>\n",
       "      <td>u</td>\n",
       "      <td>g</td>\n",
       "      <td>m</td>\n",
       "      <td>v</td>\n",
       "      <td>2.50</td>\n",
       "      <td>t</td>\n",
       "      <td>f</td>\n",
       "      <td>0</td>\n",
       "      <td>t</td>\n",
       "      <td>g</td>\n",
       "      <td>00360</td>\n",
       "      <td>0</td>\n",
       "      <td>1</td>\n",
       "    </tr>\n",
       "  </tbody>\n",
       "</table>\n",
       "</div>"
      ],
      "text/plain": [
       "  Male  Age   Debt Married Bank_Customer Education_Level Ethnicity  \\\n",
       "0    b   31  0.000       u             g               w         v   \n",
       "1    a   59  4.460       u             g               q         h   \n",
       "2    a   24  0.500       u             g               q         h   \n",
       "3    b   28  1.540       u             g               w         v   \n",
       "4    b   20  5.625       u             g               w         v   \n",
       "5    b   32  4.000       u             g               m         v   \n",
       "\n",
       "   Years_Employed Prior_Default Employed  Credit_Score Driverse_License  \\\n",
       "0            1.25             t        t             1                f   \n",
       "1            3.04             t        t             6                f   \n",
       "2            1.50             t        f             0                f   \n",
       "3            3.75             t        t             5                t   \n",
       "4            1.71             t        f             0                f   \n",
       "5            2.50             t        f             0                t   \n",
       "\n",
       "  Citizen    Zip  Income  Approved  \n",
       "0       g  00202       0         1  \n",
       "1       g  00043     560         1  \n",
       "2       g  00280     824         1  \n",
       "3       g  00100       3         1  \n",
       "4       s  00120       0         1  \n",
       "5       g  00360       0         1  "
      ]
     },
     "execution_count": 9,
     "metadata": {},
     "output_type": "execute_result"
    }
   ],
   "source": [
    "credit_df.head(6)"
   ]
  },
  {
   "cell_type": "markdown",
   "id": "8c4511b8",
   "metadata": {},
   "source": []
  },
  {
   "cell_type": "code",
   "execution_count": 5,
   "id": "c9061945",
   "metadata": {},
   "outputs": [
    {
     "data": {
      "image/png": "[encoded data removed]",
      "text/plain": [
       "<Figure size 800x600 with 1 Axes>"
      ]
     },
     "metadata": {},
     "output_type": "display_data"
    }
   ],
   "source": [
    "# Create a boxplot\n",
    "plt.figure(figsize=(8, 6))\n",
    "sns.boxplot(x='Approved', y='Age', data=credit_df)\n",
    "plt.title('Boxplot of Values by Approved')\n",
    "plt.xlabel('Approved')\n",
    "plt.ylabel('Age')\n",
    "plt.show()\n",
    "\n",
    "\n",
    "\n"
   ]
  },
  {
   "cell_type": "code",
   "execution_count": 37,
   "id": "85aed09a",
   "metadata": {},
   "outputs": [
    {
     "data": {
      "image/png": "[encoded data removed]",
      "text/plain": [
       "<Figure size 800x600 with 1 Axes>"
      ]
     },
     "metadata": {},
     "output_type": "display_data"
    }
   ],
   "source": [
    "plt.figure(figsize=(8, 6))\n",
    "sns.boxplot(x='Approved', y='Debt', data=credit_df)\n",
    "plt.title('Boxplot of Values by Approved')\n",
    "plt.xlabel('Approved')\n",
    "plt.ylabel('Debt')\n",
    "plt.show()\n",
    "\n"
   ]
  },
  {
   "cell_type": "code",
   "execution_count": 38,
   "id": "d0c83b24",
   "metadata": {},
   "outputs": [
    {
     "data": {
      "image/png": "[encoded data removed]",
      "text/plain": [
       "<Figure size 800x600 with 1 Axes>"
      ]
     },
     "metadata": {},
     "output_type": "display_data"
    }
   ],
   "source": [
    "plt.figure(figsize=(8, 6))\n",
    "sns.boxplot(x='Approved', y='Income', data=credit_df)\n",
    "plt.title('Boxplot of Values by Approved')\n",
    "plt.xlabel('Approved')\n",
    "plt.ylabel('Income')\n",
    "plt.show()\n",
    "\n"
   ]
  },
  {
   "cell_type": "code",
   "execution_count": 39,
   "id": "3c8da83d",
   "metadata": {},
   "outputs": [
    {
     "data": {
      "image/png": "[encoded data removed]",
      "text/plain": [
       "<Figure size 800x600 with 1 Axes>"
      ]
     },
     "metadata": {},
     "output_type": "display_data"
    }
   ],
   "source": [
    "plt.figure(figsize=(8, 6))\n",
    "sns.boxplot(x='Approved', y='Credit_Score', data=credit_df)\n",
    "plt.title('Boxplot of Values by Approved')\n",
    "plt.xlabel('Approved')\n",
    "plt.ylabel('Credit_Score')\n",
    "plt.show()\n",
    "\n"
   ]
  },
  {
   "cell_type": "code",
   "execution_count": 40,
   "id": "0fb17a8a",
   "metadata": {},
   "outputs": [
    {
     "data": {
      "image/png": "[encoded data removed]",
      "text/plain": [
       "<Figure size 800x600 with 1 Axes>"
      ]
     },
     "metadata": {},
     "output_type": "display_data"
    }
   ],
   "source": [
    "plt.figure(figsize=(8, 6))\n",
    "sns.boxplot(x='Approved', y='Years_Employed', data=credit_df)\n",
    "plt.title('Boxplot of Values by Approved')\n",
    "plt.xlabel('Approved')\n",
    "plt.ylabel('Years_Employed')\n",
    "plt.show()"
   ]
  },
  {
   "cell_type": "markdown",
   "id": "f7dc6912",
   "metadata": {},
   "source": [
    "## Modeling \n",
    "\n",
    "The next step is to perform logistic regression on the five variables identified from the dataset. The Akaike Information Criterion(AIC) value tells us the quality of our model. Summary of the regression can be used to interpret the factors that have a significant influence on the approval of a credit card application.\n",
    "\n",
    "To effectively evaluate the regression model trained, the dataset needs to be partitioned as train and test data. 75% of the dataset is used for training and the rest is used to predict the credit card application approval. The confusion matrix tells us how accurate the prediction is.\n"
   ]
  },
  {
   "cell_type": "code",
   "execution_count": 63,
   "id": "d54c8a65",
   "metadata": {},
   "outputs": [],
   "source": [
    "#Preprocess the dataset\n",
    "\n",
    "X = credit_df[[\"Age\", \"Debt\", \"Years_Employed\", \"Credit_Score\", \"Income\"]]\n",
    "y = credit_df[\"Approved\"]"
   ]
  },
  {
   "cell_type": "code",
   "execution_count": 64,
   "id": "0a10d054",
   "metadata": {},
   "outputs": [],
   "source": [
    "#Split the data into train, test set\n",
    "\n",
    "X_train, X_test, y_train, y_test = train_test_split(X, y, test_size = 0.20, random_state = 42)\n"
   ]
  },
  {
   "cell_type": "code",
   "execution_count": 65,
   "id": "3bfdee5f",
   "metadata": {},
   "outputs": [],
   "source": [
    "#standerize the features \n",
    "\n",
    "scalar = StandardScaler()\n",
    "X_train_scaled = scalar.fit_transform(X_train)\n",
    "X_test_scaled = scalar.transform(X_test)\n"
   ]
  },
  {
   "cell_type": "code",
   "execution_count": 66,
   "id": "0de4efd9",
   "metadata": {},
   "outputs": [
    {
     "name": "stdout",
     "output_type": "stream",
     "text": [
      "Optimization terminated successfully.\n",
      "         Current function value: 0.499919\n",
      "         Iterations 8\n"
     ]
    }
   ],
   "source": [
    "#fit logistic regression\n",
    "\n",
    "logit_model = sm.Logit(y_train, sm.add_constant(X_train_scaled))\n",
    "result = logit_model.fit()"
   ]
  },
  {
   "cell_type": "code",
   "execution_count": 67,
   "id": "f638ac6b",
   "metadata": {},
   "outputs": [],
   "source": [
    "# Get predicted probabilities and classes for the test set\n",
    "y_prob = result.predict(sm.add_constant(X_test_scaled))\n",
    "y_pred = (y_prob > 0.5).astype(int)\n"
   ]
  },
  {
   "cell_type": "code",
   "execution_count": 68,
   "id": "aa87ddd2",
   "metadata": {},
   "outputs": [
    {
     "name": "stdout",
     "output_type": "stream",
     "text": [
      "Confusion Matrix:\n",
      " [[75  5]\n",
      " [18 38]]\n"
     ]
    }
   ],
   "source": [
    "# Confusion matrix\n",
    "conf_matrix = confusion_matrix(y_test, y_pred)\n",
    "print(\"Confusion Matrix:\\n\", conf_matrix)\n"
   ]
  },
  {
   "cell_type": "code",
   "execution_count": 69,
   "id": "16d0ffce",
   "metadata": {},
   "outputs": [
    {
     "name": "stdout",
     "output_type": "stream",
     "text": [
      "Classification Report:\n",
      "              precision    recall  f1-score   support\n",
      "\n",
      "           0     0.8065    0.9375    0.8671        80\n",
      "           1     0.8837    0.6786    0.7677        56\n",
      "\n",
      "    accuracy                         0.8309       136\n",
      "   macro avg     0.8451    0.8080    0.8174       136\n",
      "weighted avg     0.8383    0.8309    0.8261       136\n",
      "\n"
     ]
    }
   ],
   "source": [
    "report = classification_report(y_test, y_pred, digits = 4)\n",
    "\n",
    "# Print the classification report\n",
    "print(\"Classification Report:\")\n",
    "print(report)"
   ]
  },
  {
   "cell_type": "markdown",
   "id": "60dbf398",
   "metadata": {},
   "source": [
    "The confusion matrix above gives the actual values and predicted values. 75 is the number of credit card applications correctly predicted as denied out of 93 (80.65% accuracy) and 38 is the number of applications correctly predicted as granted out of 43 (93.75% accuracy). Rest are Type 1 and Type 2 errors in the prediction. Approximately, the model is 75.28% accurate in predicting credit card approval.\n"
   ]
  },
  {
   "cell_type": "code",
   "execution_count": 36,
   "id": "9c607893",
   "metadata": {},
   "outputs": [
    {
     "name": "stdout",
     "output_type": "stream",
     "text": [
      "                           Logit Regression Results                           \n",
      "==============================================================================\n",
      "Dep. Variable:               Approved   No. Observations:                  542\n",
      "Model:                          Logit   Df Residuals:                      536\n",
      "Method:                           MLE   Df Model:                            5\n",
      "Date:                Fri, 10 Nov 2023   Pseudo R-squ.:                  0.2753\n",
      "Time:                        08:32:45   Log-Likelihood:                -270.96\n",
      "converged:                       True   LL-Null:                       -373.90\n",
      "Covariance Type:            nonrobust   LLR p-value:                 1.565e-42\n",
      "==============================================================================\n",
      "                 coef    std err          z      P>|z|      [0.025      0.975]\n",
      "------------------------------------------------------------------------------\n",
      "const          0.2812      0.138      2.045      0.041       0.012       0.551\n",
      "x1             0.0591      0.112      0.527      0.599      -0.161       0.279\n",
      "x2             0.1610      0.110      1.460      0.144      -0.055       0.377\n",
      "x3             0.6290      0.144      4.365      0.000       0.347       0.911\n",
      "x4             1.5468      0.226      6.833      0.000       1.103       1.990\n",
      "x5             1.6907      0.435      3.887      0.000       0.838       2.543\n",
      "==============================================================================\n"
     ]
    }
   ],
   "source": [
    "print(result.summary())"
   ]
  },
  {
   "cell_type": "code",
   "execution_count": 37,
   "id": "df073c4b",
   "metadata": {},
   "outputs": [
    {
     "name": "stdout",
     "output_type": "stream",
     "text": [
      "553.9118699975294\n"
     ]
    }
   ],
   "source": [
    "print(result.aic)"
   ]
  },
  {
   "cell_type": "markdown",
   "id": "a3ea8b42",
   "metadata": {},
   "source": [
    "We develop a multiple regression equation using __Age, Debt, Years_Employed, Credit_Score, and Income__ to predict credit card approval and check how well the regression model explains the variability in credit card approval."
   ]
  },
  {
   "cell_type": "markdown",
   "id": "85f49a2a",
   "metadata": {},
   "source": [
    "$ \\text{Log odds of Approval} = 0.0591 \\times \\text{Age} + 0.1610 \\times \\text{Debt} + 0.6290 \\times \\text{Years_Employed} + 1.5468 \\times \\text{Credit_Score} + 1.6907 \\times \\text{Income} + 0.2812 $\n"
   ]
  },
  {
   "cell_type": "markdown",
   "id": "573ed5ad",
   "metadata": {},
   "source": [
    "From the summary of the regression model, we can see that __YearsEmployed_, _CreditScore_, and _Income__ has a high significance in predicting the credit card application approval or denial. These factors are significant with a __p-value__ of 0.000. Other features like __Age and Debt__ does not seem to have much significance in predicting the approval of credit card applications because the __p-value__ is much higher for these features."
   ]
  },
  {
   "cell_type": "markdown",
   "id": "b7fb7b5d",
   "metadata": {},
   "source": [
    "The Pseudo $R^2$ value of the model is __0.2753__ and the log-likelihood of the fitted model is __-270.96__, that means the deviance for the model is **−2×(−270.96)=2×270.96=541.92**. The log-likelihood of the null model which is __-373.90__, which means the deviance for the model is **−2×(−373.90)=2×373.90=747.80.** This suggests that  the goodness of fit is higher when we include the predictors in the regression model. \n"
   ]
  },
  {
   "cell_type": "markdown",
   "id": "9f0f99d4",
   "metadata": {},
   "source": [
    "From this model, we found that only three factors have a significant influence on predicting approval rate. So in the next step, we will perform another regression model by removing the least significant features such as Age and Debt from the model and analyze the difference in diviance and other factors."
   ]
  },
  {
   "cell_type": "markdown",
   "id": "f86ef677",
   "metadata": {},
   "source": [
    "## Model 2"
   ]
  },
  {
   "cell_type": "code",
   "execution_count": 73,
   "id": "20fc2dc3",
   "metadata": {},
   "outputs": [
    {
     "name": "stdout",
     "output_type": "stream",
     "text": [
      "Optimization terminated successfully.\n",
      "         Current function value: 0.502180\n",
      "         Iterations 8\n"
     ]
    }
   ],
   "source": [
    "#Preprocess the dataset for model 2\n",
    "\n",
    "X1 = credit_df[[\"Years_Employed\", \"Credit_Score\", \"Income\"]]\n",
    "y1 = credit_df[\"Approved\"]\n",
    "\n",
    "#Split the data into train, test set\n",
    "\n",
    "X1_train, X1_test, y1_train, y1_test = train_test_split(X1, y1, test_size = 0.20, random_state = 42)\n",
    "\n",
    "#standerize the features \n",
    "\n",
    "scalar1 = StandardScaler()\n",
    "X1_train_scaled = scalar1.fit_transform(X1_train)\n",
    "X1_test_scaled = scalar1.transform(X1_test)\n",
    "\n",
    "#fit logistic regression\n",
    "\n",
    "logit_model1 = sm.Logit(y1_train, sm.add_constant(X1_train_scaled))\n",
    "result1 = logit_model1.fit()\n",
    "\n",
    "# Get predicted probabilities and classes for the test set\n",
    "y1_prob = result1.predict(sm.add_constant(X1_test_scaled))\n",
    "y1_pred = (y1_prob > 0.5).astype(int)\n",
    "\n"
   ]
  },
  {
   "cell_type": "code",
   "execution_count": 74,
   "id": "fc5ad6d5",
   "metadata": {},
   "outputs": [
    {
     "name": "stdout",
     "output_type": "stream",
     "text": [
      "Confusion Matrix:\n",
      " [[75  5]\n",
      " [19 37]]\n"
     ]
    }
   ],
   "source": [
    "# Confusion matrix\n",
    "conf_matrix1 = confusion_matrix(y1_test, y1_pred)\n",
    "print(\"Confusion Matrix:\\n\", conf_matrix1)\n"
   ]
  },
  {
   "cell_type": "code",
   "execution_count": 79,
   "id": "521ec708",
   "metadata": {},
   "outputs": [
    {
     "data": {
      "text/plain": [
       "75.2720588235294"
      ]
     },
     "execution_count": 79,
     "metadata": {},
     "output_type": "execute_result"
    }
   ],
   "source": [
    "75+37/(75+19+5+37)"
   ]
  },
  {
   "cell_type": "markdown",
   "id": "cf004ee4",
   "metadata": {},
   "source": [
    "The confusion matrix above also shows there is no change in the prediction of credit card approval after simplifying the model. This shows that the predictability of the model stays still **75.27%** even after removing less influencing factors such as **Age and Debt**.\n"
   ]
  },
  {
   "cell_type": "code",
   "execution_count": 75,
   "id": "c84e96a5",
   "metadata": {},
   "outputs": [
    {
     "name": "stdout",
     "output_type": "stream",
     "text": [
      "Classification Report:\n",
      "              precision    recall  f1-score   support\n",
      "\n",
      "           0     0.7979    0.9375    0.8621        80\n",
      "           1     0.8810    0.6607    0.7551        56\n",
      "\n",
      "    accuracy                         0.8235       136\n",
      "   macro avg     0.8394    0.7991    0.8086       136\n",
      "weighted avg     0.8321    0.8235    0.8180       136\n",
      "\n"
     ]
    }
   ],
   "source": [
    "report1 = classification_report(y1_test, y1_pred, digits = 4)\n",
    "\n",
    "# Print the classification report\n",
    "print(\"Classification Report:\")\n",
    "print(report1)"
   ]
  },
  {
   "cell_type": "code",
   "execution_count": 76,
   "id": "3d411568",
   "metadata": {},
   "outputs": [
    {
     "name": "stdout",
     "output_type": "stream",
     "text": [
      "                           Logit Regression Results                           \n",
      "==============================================================================\n",
      "Dep. Variable:               Approved   No. Observations:                  542\n",
      "Model:                          Logit   Df Residuals:                      538\n",
      "Method:                           MLE   Df Model:                            3\n",
      "Date:                Fri, 10 Nov 2023   Pseudo R-squ.:                  0.2720\n",
      "Time:                        11:31:44   Log-Likelihood:                -272.18\n",
      "converged:                       True   LL-Null:                       -373.90\n",
      "Covariance Type:            nonrobust   LLR p-value:                 7.646e-44\n",
      "==============================================================================\n",
      "                 coef    std err          z      P>|z|      [0.025      0.975]\n",
      "------------------------------------------------------------------------------\n",
      "const          0.2750      0.137      2.003      0.045       0.006       0.544\n",
      "x1             0.6662      0.140      4.767      0.000       0.392       0.940\n",
      "x2             1.5574      0.224      6.944      0.000       1.118       1.997\n",
      "x3             1.6991      0.438      3.883      0.000       0.842       2.557\n",
      "==============================================================================\n"
     ]
    }
   ],
   "source": [
    "print(result1.summary())"
   ]
  },
  {
   "cell_type": "code",
   "execution_count": 77,
   "id": "83e3a9c1",
   "metadata": {},
   "outputs": [
    {
     "name": "stdout",
     "output_type": "stream",
     "text": [
      "552.3629577810977\n"
     ]
    }
   ],
   "source": [
    "print(result1.aic)"
   ]
  },
  {
   "cell_type": "code",
   "execution_count": 78,
   "id": "9a48e2e4",
   "metadata": {},
   "outputs": [
    {
     "name": "stdout",
     "output_type": "stream",
     "text": [
      "553.9118699975294\n"
     ]
    }
   ],
   "source": [
    "print(result.aic)"
   ]
  },
  {
   "cell_type": "markdown",
   "id": "2df1b5a6",
   "metadata": {},
   "source": [
    "Above is the simplified model by removing Age and Debt from our previous model. It can be seen that from the summary of regression the AIC has reduced to 552.36, which was earlier 553.91. The AIC shows the quality of a model, the lower the AIC better the model is. So from this, we can say that the simplified model is better than the first model even though the value in AIC is only sightly less. Moreover, there is not much change in the deviances when compared to the previous complex model."
   ]
  },
  {
   "cell_type": "markdown",
   "id": "90ab98be",
   "metadata": {},
   "source": [
    "## Conclusion\n",
    "\n",
    "\n",
    "From the analysis, we found out that the variables that have a major impact on the variances in credit card approval are __Income, Years_Employed, and Credit_Score__. The AIC of the model is low, with 552.36. This model is significant at $\\alpha$ = 0.001 or 99.9% level."
   ]
  }
 ],
 "metadata": {
  "kernelspec": {
   "display_name": "Python 3 (ipykernel)",
   "language": "python",
   "name": "python3"
  },
  "language_info": {
   "codemirror_mode": {
    "name": "ipython",
    "version": 3
   },
   "file_extension": ".py",
   "mimetype": "text/x-python",
   "name": "python",
   "nbconvert_exporter": "python",
   "pygments_lexer": "ipython3",
   "version": "3.9.12"
  }
 },
 "nbformat": 4,
 "nbformat_minor": 5
}
